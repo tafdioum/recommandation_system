{
 "cells": [
  {
   "cell_type": "code",
   "execution_count": 3,
   "metadata": {},
   "outputs": [
    {
     "data": {
      "text/html": [
       "<div>\n",
       "<style scoped>\n",
       "    .dataframe tbody tr th:only-of-type {\n",
       "        vertical-align: middle;\n",
       "    }\n",
       "\n",
       "    .dataframe tbody tr th {\n",
       "        vertical-align: top;\n",
       "    }\n",
       "\n",
       "    .dataframe thead th {\n",
       "        text-align: right;\n",
       "    }\n",
       "</style>\n",
       "<table border=\"1\" class=\"dataframe\">\n",
       "  <thead>\n",
       "    <tr style=\"text-align: right;\">\n",
       "      <th></th>\n",
       "      <th>movie_id</th>\n",
       "      <th>title</th>\n",
       "      <th>genre</th>\n",
       "    </tr>\n",
       "  </thead>\n",
       "  <tbody>\n",
       "    <tr>\n",
       "      <th>0</th>\n",
       "      <td>1</td>\n",
       "      <td>Movie 1</td>\n",
       "      <td>Animation</td>\n",
       "    </tr>\n",
       "    <tr>\n",
       "      <th>1</th>\n",
       "      <td>2</td>\n",
       "      <td>Movie 2</td>\n",
       "      <td>Sci-Fi</td>\n",
       "    </tr>\n",
       "    <tr>\n",
       "      <th>2</th>\n",
       "      <td>3</td>\n",
       "      <td>Movie 3</td>\n",
       "      <td>Adventure</td>\n",
       "    </tr>\n",
       "    <tr>\n",
       "      <th>3</th>\n",
       "      <td>4</td>\n",
       "      <td>Movie 4</td>\n",
       "      <td>Horror</td>\n",
       "    </tr>\n",
       "    <tr>\n",
       "      <th>4</th>\n",
       "      <td>5</td>\n",
       "      <td>Movie 5</td>\n",
       "      <td>Animation</td>\n",
       "    </tr>\n",
       "  </tbody>\n",
       "</table>\n",
       "</div>"
      ],
      "text/plain": [
       "   movie_id    title      genre\n",
       "0         1  Movie 1  Animation\n",
       "1         2  Movie 2     Sci-Fi\n",
       "2         3  Movie 3  Adventure\n",
       "3         4  Movie 4     Horror\n",
       "4         5  Movie 5  Animation"
      ]
     },
     "execution_count": 3,
     "metadata": {},
     "output_type": "execute_result"
    }
   ],
   "source": [
    "import pandas as pd\n",
    "import numpy as np\n",
    "\n",
    "# Liste de genres de films\n",
    "genres = [\"Action\", \"Comedy\", \"Drama\", \"Sci-Fi\", \"Horror\", \"Romance\", \"Animation\", \"Adventure\", \"Thriller\", \"Documentary\"]\n",
    "\n",
    "# Génération des données\n",
    "np.random.seed(42)  # Pour la reproductibilité\n",
    "data = {\n",
    "    \"movie_id\": range(1, 501),  # ID de 1 à 500\n",
    "    \"title\": [f\"Movie {i}\" for i in range(1, 501)],  # Titres : Movie 1, Movie 2, ..., Movie 500\n",
    "    \"genre\": np.random.choice(genres, 500)  # Genres aléatoires\n",
    "}\n",
    "\n",
    "# Création d'un DataFrame\n",
    "df = pd.DataFrame(data)\n",
    "\n",
    "# Sauvegarde dans un fichier CSV\n",
    "df.to_csv(\"C:\\\\Users\\\\Dioum7794\\\\OneDrive - Orange Sonatel\\\\Documents\\\\travaux EIS\\\\COURS\\\\COURS MASTER\\\\2ième ANNEE\\\\TEST LOGICIEL\\\\Projet_Final\\\\data\\\\movies.csv\", index=False)\n",
    "\n",
    "\n",
    "# Affichage des 5 premières lignes\n",
    "df.head()"
   ]
  }
 ],
 "metadata": {
  "kernelspec": {
   "display_name": "Python 3",
   "language": "python",
   "name": "python3"
  },
  "language_info": {
   "name": "python",
   "version": "3.12.1"
  }
 },
 "nbformat": 4,
 "nbformat_minor": 2
}
